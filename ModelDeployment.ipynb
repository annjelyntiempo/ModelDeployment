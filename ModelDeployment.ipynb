{
 "cells": [
  {
   "cell_type": "markdown",
   "metadata": {},
   "source": [
    "# On-device deployment"
   ]
  },
  {
   "cell_type": "code",
   "execution_count": 1,
   "metadata": {},
   "outputs": [
    {
     "name": "stdout",
     "output_type": "stream",
     "text": [
      "Requirement already satisfied: m2cgen in c:\\users\\epsolute\\anaconda3\\lib\\site-packages (0.9.0)\n",
      "Requirement already satisfied: numpy in c:\\users\\epsolute\\anaconda3\\lib\\site-packages (from m2cgen) (1.19.2)\n"
     ]
    }
   ],
   "source": [
    "!pip install m2cgen"
   ]
  },
  {
   "cell_type": "code",
   "execution_count": 2,
   "metadata": {},
   "outputs": [
    {
     "data": {
      "text/plain": [
       "LinearRegression()"
      ]
     },
     "execution_count": 2,
     "metadata": {},
     "output_type": "execute_result"
    }
   ],
   "source": [
    "import pickle  # for saving\n",
    "import pandas as pd # for data loading\n",
    "import numpy as np # for manipulations\n",
    "from sklearn import linear_model # for creating model\n",
    "from sklearn.model_selection import train_test_split # for splitting data\n",
    "import m2cgen as m2c # to convert model to Java code\n",
    "\n",
    "# load dataset\n",
    "dataset = pd.read_csv('Salary_Data.csv')\n",
    "X = dataset.iloc[:, :-1].values\n",
    "y = dataset.iloc[:, 1].values\n",
    "\n",
    "# split the data\n",
    "X_train, X_test, y_train, y_test = train_test_split(X, y, test_size=0.33, random_state=0)\n",
    "\n",
    "# create the model\n",
    "regressor = linear_model.LinearRegression()\n",
    "\n",
    "# train the model\n",
    "regressor.fit(X_train, y_train)"
   ]
  },
  {
   "cell_type": "code",
   "execution_count": 3,
   "metadata": {},
   "outputs": [
    {
     "name": "stdout",
     "output_type": "stream",
     "text": [
      "public class Model {\n",
      "    public static double score(double[] input) {\n",
      "        return (26816.19224403119) + ((input[0]) * (9345.94244312237));\n",
      "    }\n",
      "}\n",
      "\n"
     ]
    }
   ],
   "source": [
    "# convert to java code\n",
    "code = m2c.export_to_java(regressor)  # java source code\n",
    "\n",
    "# print generated code\n",
    "for c in code.split(\"\\n\"):\n",
    "    print(c)"
   ]
  },
  {
   "cell_type": "markdown",
   "metadata": {},
   "source": [
    "# Server-based deployment"
   ]
  },
  {
   "cell_type": "code",
   "execution_count": 4,
   "metadata": {},
   "outputs": [
    {
     "data": {
      "text/plain": [
       "LinearRegression()"
      ]
     },
     "execution_count": 4,
     "metadata": {},
     "output_type": "execute_result"
    }
   ],
   "source": [
    "import pickle  # for saving\n",
    "import pandas as pd # for data loading\n",
    "import numpy as np # for manipulations\n",
    "from sklearn import linear_model # for creating model\n",
    "from sklearn.model_selection import train_test_split # for splitting data\n",
    "import m2cgen as m2c # to convert model to Java code\n",
    "\n",
    "# load dataset\n",
    "dataset = pd.read_csv('Salary_Data.csv')\n",
    "X = dataset.iloc[:, :-1].values\n",
    "y = dataset.iloc[:, 1].values\n",
    "\n",
    "# split the data\n",
    "X_train, X_test, y_train, y_test = train_test_split(X, y, test_size=0.33, random_state=0)\n",
    "\n",
    "# create the model\n",
    "regressor = linear_model.LinearRegression()\n",
    "\n",
    "# train the model\n",
    "regressor.fit(X_train, y_train)"
   ]
  },
  {
   "cell_type": "code",
   "execution_count": 5,
   "metadata": {},
   "outputs": [],
   "source": [
    "# saving model as pickle file\n",
    "pickle.dump(regressor, open('salaryregressionmodel.pkl', 'wb'))"
   ]
  }
 ],
 "metadata": {
  "kernelspec": {
   "display_name": "Python 3",
   "language": "python",
   "name": "python3"
  },
  "language_info": {
   "codemirror_mode": {
    "name": "ipython",
    "version": 3
   },
   "file_extension": ".py",
   "mimetype": "text/x-python",
   "name": "python",
   "nbconvert_exporter": "python",
   "pygments_lexer": "ipython3",
   "version": "3.8.5"
  }
 },
 "nbformat": 4,
 "nbformat_minor": 4
}
